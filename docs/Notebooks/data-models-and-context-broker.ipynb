{
 "cells": [
  {
   "attachments": {},
   "cell_type": "markdown",
   "metadata": {},
   "source": [
    "# Data models and context broker\n",
    "This notebook shows how to create data models with the toolbox components and how to post and retrieve them from a context broker."
   ]
  },
  {
   "attachments": {},
   "cell_type": "markdown",
   "metadata": {},
   "source": [
    "## Data Models\n",
    "\n",
    "For each one of the defined toolbox [data models](../DataModels/README.md) there is an interface class that allow us to store its data and facilitates the communication with the context broker."
   ]
  },
  {
   "cell_type": "code",
   "execution_count": null,
   "metadata": {},
   "outputs": [],
   "source": [
    "import json\n",
    "import pprint\n",
    "import numpy as np\n",
    "import requests\n",
    "import pprint\n",
    "\n",
    "from toolbox import Structures\n",
    "from toolbox.Structures.Keypoints import COCOKeypoints\n",
    "\n",
    "from toolbox import DataModels\n",
    "\n",
    "# We can get the data model class by its type name using the data models catalog\n",
    "data_models_dict = DataModels.DataModelsCatalog.data_models_catalog\n",
    "pprint.pprint(data_models_dict)\n",
    "print(data_models_dict[\"Face\"])\n"
   ]
  },
  {
   "attachments": {},
   "cell_type": "markdown",
   "metadata": {},
   "source": [
    "### Create some data model"
   ]
  },
  {
   "cell_type": "code",
   "execution_count": null,
   "metadata": {},
   "outputs": [],
   "source": [
    "face = DataModels.Face(\n",
    "    id=\"Face:123\",\n",
    "    image=\"Image:123\",\n",
    "    boundingBox=Structures.BoundingBox(.1,.1,.2,.2),\n",
    "    detectionConfidence=0.9,\n",
    "    age=35,\n",
    "    gender=Structures.Gender.FEMALE,\n",
    "    genderConfidence=0.99,\n",
    "    emotion=Structures.Emotion.HAPPINESS,\n",
    "    emotionConfidence=0.99,\n",
    "    features=[0.1,0.2,0.3],\n",
    "    featuresAlgorithm=\"FaceNet\",\n",
    "    recognitionDomain=\"Celeb\",\n",
    "    recognized=True,\n",
    "    recognizedDistance=0.77,\n",
    "    recognizedPerson=\"Person:123\"\n",
    ")\n",
    "\n",
    "instance_segmentation = DataModels.InstanceSegmentation(\n",
    "    id=\"Instance:camera123\",\n",
    "    image=\"Image:123\",\n",
    "    mask=Structures.SegmentationMask(np.zeros((512,512))),\n",
    "    boundingBox=Structures.BoundingBox(.1,.1,.2,.2),\n",
    "    label=\"cat\",\n",
    "    labelId=0,\n",
    "    confidence=0.99\n",
    ")\n",
    "\n",
    "keypoints = DataModels.PersonKeyPoints(\n",
    "    id=\"KeyPoints:123\",\n",
    "    image=\"Image:123\",\n",
    "    boundingBox=Structures.BoundingBox(.1,.1,.2,.2),\n",
    "    confidence=0.99,\n",
    "    keypoints=COCOKeypoints.from_absolute_keypoints(np.full((17,3),0.5), 512, 512)\n",
    ")\n",
    "\n",
    "image = DataModels.Image(\n",
    "    id=\"Image:123\",\n",
    "    width=512,\n",
    "    height=512,\n",
    "    path=\"/a/b/c.jpg\",\n",
    "    url=\"http://a.b/c.jpg\",\n",
    "    source=\"Camera:123\",\n",
    "    purpose=\"FaceRecognition\"\n",
    ")"
   ]
  },
  {
   "attachments": {},
   "cell_type": "markdown",
   "metadata": {},
   "source": [
    "We can pretty print the data models with the ``pretty()`` method"
   ]
  },
  {
   "cell_type": "code",
   "execution_count": null,
   "metadata": {},
   "outputs": [],
   "source": [
    "print(face.pretty())\n",
    "print(instance_segmentation.pretty())\n",
    "print(keypoints.pretty())\n",
    "print(image.pretty())"
   ]
  },
  {
   "attachments": {},
   "cell_type": "markdown",
   "metadata": {},
   "source": [
    "We can get and modify the data models attributes by its name"
   ]
  },
  {
   "cell_type": "code",
   "execution_count": null,
   "metadata": {},
   "outputs": [],
   "source": [
    "face.age = 20\n",
    "print(face.age)"
   ]
  },
  {
   "attachments": {},
   "cell_type": "markdown",
   "metadata": {},
   "source": [
    "## Posting and retrieving data models from the context broker\n",
    "\n",
    "We can use the ``ContextProducer`` and ``ContextConsumer`` components to post and retrieve the defined data models from a context broker"
   ]
  },
  {
   "cell_type": "code",
   "execution_count": null,
   "metadata": {},
   "outputs": [],
   "source": [
    "from toolbox.Context import ContextConsumer, ContextProducer"
   ]
  },
  {
   "cell_type": "code",
   "execution_count": null,
   "metadata": {},
   "outputs": [],
   "source": [
    "config = {\n",
    "    \"context_broker\": {\n",
    "        \"host\": \"192.168.0.69\",\n",
    "        \"port\": 1026\n",
    "    }\n",
    "}\n",
    "context_producer = ContextProducer(config)\n",
    "context_consumer = ContextConsumer(config)"
   ]
  },
  {
   "attachments": {},
   "cell_type": "markdown",
   "metadata": {},
   "source": [
    "Post one of the created data models"
   ]
  },
  {
   "cell_type": "code",
   "execution_count": null,
   "metadata": {},
   "outputs": [],
   "source": [
    "dm = face\n",
    "\n",
    "# If the id of the data model is not set, the ``ContextProducer`` will generate\n",
    "# a random one before posting it to the broker. We can set the id to None\n",
    "# to ensure that we don't use an existing one.\n",
    "dm.id = None\n",
    "\n",
    "# Post the data model to the context broker\n",
    "dm_sent = context_producer.post_entity(dm)\n",
    "\n",
    "# This returns a dict with the json that is sent to the context broker\n",
    "print(type(dm_sent))\n",
    "pprint.pprint(dm_sent)"
   ]
  },
  {
   "attachments": {},
   "cell_type": "markdown",
   "metadata": {},
   "source": [
    "If we want, we can also parse the data model to a json without posting it to the broke"
   ]
  },
  {
   "cell_type": "code",
   "execution_count": null,
   "metadata": {},
   "outputs": [],
   "source": [
    "dm_json = context_producer.to_json(dm)\n",
    "print(type(dm_json))\n",
    "pprint.pprint(dm_json)"
   ]
  },
  {
   "attachments": {},
   "cell_type": "markdown",
   "metadata": {},
   "source": [
    "We can retrieve the data model we just posted by its id"
   ]
  },
  {
   "cell_type": "code",
   "execution_count": null,
   "metadata": {},
   "outputs": [],
   "source": [
    "dm_retrieved = context_consumer.parse_entity(dm_sent[\"id\"])\n",
    "print(dm_retrieved.pretty())"
   ]
  },
  {
   "cell_type": "code",
   "execution_count": null,
   "metadata": {},
   "outputs": [],
   "source": [
    "context_broker_host = f\"{config['context_broker']['host']}:{config['context_broker']['port']}\""
   ]
  },
  {
   "attachments": {},
   "cell_type": "markdown",
   "metadata": {},
   "source": [
    "### NGSI-LD normalized"
   ]
  },
  {
   "cell_type": "code",
   "execution_count": null,
   "metadata": {},
   "outputs": [],
   "source": [
    "r = requests.get(f\"http://{context_broker_host}/ngsi-ld/v1/entities/{dm_sent['id']}\")\n",
    "print(r.status_code)\n",
    "print(json.dumps(r.json(), indent=2))"
   ]
  },
  {
   "attachments": {},
   "cell_type": "markdown",
   "metadata": {},
   "source": [
    "### NGSI-LD key-values"
   ]
  },
  {
   "cell_type": "code",
   "execution_count": null,
   "metadata": {},
   "outputs": [],
   "source": [
    "r = requests.get(f\"http://{context_broker_host}/ngsi-ld/v1/entities/{dm_sent['id']}?options=keyValues\")\n",
    "print(r.status_code)\n",
    "print(json.dumps(r.json(), indent=2))"
   ]
  },
  {
   "attachments": {},
   "cell_type": "markdown",
   "metadata": {},
   "source": [
    "### NGSIv2 normalized"
   ]
  },
  {
   "cell_type": "code",
   "execution_count": null,
   "metadata": {},
   "outputs": [],
   "source": [
    "r = requests.get(f\"http://{context_broker_host}/v2/entities/{dm_sent['id']}\")\n",
    "print(r.status_code)\n",
    "print(json.dumps(r.json(), indent=2,))"
   ]
  },
  {
   "attachments": {},
   "cell_type": "markdown",
   "metadata": {},
   "source": [
    "### NGSIv2 key-values"
   ]
  },
  {
   "cell_type": "code",
   "execution_count": null,
   "metadata": {},
   "outputs": [],
   "source": [
    "r = requests.get(f\"http://{context_broker_host}/v2/entities/{dm_sent['id']}?options=keyValues\")\n",
    "print(r.status_code)\n",
    "print(json.dumps(r.json(), indent=2,))"
   ]
  }
 ],
 "metadata": {
  "kernelspec": {
   "display_name": "Python 3.7.9 64-bit",
   "language": "python",
   "name": "python3"
  },
  "language_info": {
   "codemirror_mode": {
    "name": "ipython",
    "version": 3
   },
   "file_extension": ".py",
   "mimetype": "text/x-python",
   "name": "python",
   "nbconvert_exporter": "python",
   "pygments_lexer": "ipython3",
   "version": "3.11.0"
  },
  "orig_nbformat": 4,
  "vscode": {
   "interpreter": {
    "hash": "d49c3f6d6dd49f9272b571d9fad348ab55b8c6c3f691520d74ed0af1f69c3dd8"
   }
  }
 },
 "nbformat": 4,
 "nbformat_minor": 2
}
