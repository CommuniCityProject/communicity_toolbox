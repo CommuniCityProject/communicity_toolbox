{
 "cells": [
  {
   "attachments": {},
   "cell_type": "markdown",
   "metadata": {},
   "source": [
    "# Data models and context broker\n",
    "This notebook shows some examples of how to interact with a context broker using the Toolbox components and how to use the defined data models."
   ]
  },
  {
   "attachments": {},
   "cell_type": "markdown",
   "metadata": {},
   "source": [
    "## Data models\n",
    "The Toolbox provides a set of [data models](https://github.com/CommuniCityProject/communicity_toolbox/tree/master/docs/DataModels) that define the structure of the data generated and consumed by the Toolbox components. For each one, a Python class is provided to facilitate its management."
   ]
  },
  {
   "cell_type": "code",
   "execution_count": 1,
   "metadata": {},
   "outputs": [],
   "source": [
    "from toolbox import Structures\n",
    "from toolbox.Context import entity_parser\n",
    "from toolbox.DataModels import (\n",
    "    Face, Image, InstanceSegmentation, PersonKeyPoints, DataModelsCatalog)"
   ]
  },
  {
   "attachments": {},
   "cell_type": "markdown",
   "metadata": {},
   "source": [
    "We can create a new entity as follows:"
   ]
  },
  {
   "cell_type": "code",
   "execution_count": 2,
   "metadata": {},
   "outputs": [
    {
     "name": "stdout",
     "output_type": "stream",
     "text": [
      "--------------------------------------Face--------------------------------------\n",
      "id\t\t\t\tNone\n",
      "dateObserved\t\t\t2023-06-16 12:38:41.216313\n",
      "type\t\t\t\tFace\n",
      "image\t\t\t\turn:ngsi-ld:Image:1234\n",
      "bounding_box\t\t\tBoundingBox(0.100,0.200,0.300,0.400)\n",
      "detection_confidence\t\t0.99\n",
      "age\t\t\t\t30.0\n",
      "gender\t\t\t\tNone\n",
      "gender_confidence\t\tNone\n",
      "emotion\t\t\t\tHAPPINESS\n",
      "emotion_confidence\t\tNone\n",
      "features\t\t\tNone\n",
      "features_algorithm\t\tNone\n",
      "recognition_domain\t\tNone\n",
      "recognized\t\t\tFalse\n",
      "recognized_distance\t\tNone\n",
      "recognized_person\t\tNone\n",
      "--------------------------------------------------------------------------------\n",
      "\n"
     ]
    }
   ],
   "source": [
    "face = Face(\n",
    "    image=\"urn:ngsi-ld:Image:1234\",\n",
    "    bounding_box=Structures.BoundingBox(0.1,0.2,0.3,0.4),\n",
    "    detection_confidence=0.99,\n",
    "    age=30,\n",
    "    emotion=Structures.Emotion.HAPPINESS\n",
    ")\n",
    "\n",
    "print(face.pretty())"
   ]
  },
  {
   "attachments": {},
   "cell_type": "markdown",
   "metadata": {},
   "source": [
    "We can get and modify its attributes."
   ]
  },
  {
   "cell_type": "code",
   "execution_count": 3,
   "metadata": {},
   "outputs": [
    {
     "name": "stdout",
     "output_type": "stream",
     "text": [
      "30.0\n",
      "BoundingBox(0.100,0.200,0.300,0.400)\n",
      "100\n"
     ]
    }
   ],
   "source": [
    "print(face.age)\n",
    "print(face.bounding_box)\n",
    "face.age = 100\n",
    "print(face.age)"
   ]
  },
  {
   "attachments": {},
   "cell_type": "markdown",
   "metadata": {},
   "source": [
    "Each data model is registered in the _DataModelsCatalog_. We can use this module to get the appropriate class from each data model name."
   ]
  },
  {
   "cell_type": "code",
   "execution_count": 4,
   "metadata": {},
   "outputs": [
    {
     "name": "stdout",
     "output_type": "stream",
     "text": [
      "<class 'dict'>\n",
      "InstanceSegmentation <class 'toolbox.DataModels.InstanceSegmentation.InstanceSegmentation'>\n",
      "PersonKeyPoints <class 'toolbox.DataModels.PersonKeyPoints.PersonKeyPoints'>\n",
      "Image <class 'toolbox.DataModels.Image.Image'>\n",
      "Face <class 'toolbox.DataModels.Face.Face'>\n"
     ]
    }
   ],
   "source": [
    "print(type(DataModelsCatalog.data_models_catalog))\n",
    "for k, v in DataModelsCatalog.data_models_catalog.items():\n",
    "    print(k, v)"
   ]
  },
  {
   "attachments": {},
   "cell_type": "markdown",
   "metadata": {},
   "source": [
    "We can convert the entities from and to dicts using the ``entity_parser`` module."
   ]
  },
  {
   "cell_type": "code",
   "execution_count": 5,
   "metadata": {},
   "outputs": [
    {
     "name": "stdout",
     "output_type": "stream",
     "text": [
      "{'id': 'urn:ngsi-ld:Face:9f0mLgwxEe6LRzCcI__G6g', 'type': 'Face', '@context': ['https://uri.etsi.org/ngsi-ld/v1/ngsi-ld-core-context.jsonld'], 'dateCreated': {'type': 'Property', 'value': {'@type': 'DateTime', '@value': '2023-06-16T12:38:41Z'}}, 'dateModified': {'type': 'Property', 'value': {'@type': 'DateTime', '@value': '2023-06-16T12:38:41Z'}}, 'dateObserved': {'type': 'Property', 'value': {'@type': 'DateTime', '@value': '2023-06-16T12:38:41Z'}}, 'image': {'type': 'Relationship', 'object': 'urn:ngsi-ld:Image:1234'}, 'boundingBox': {'type': 'Property', 'value': {'xmin': 0.1, 'ymin': 0.2, 'xmax': 0.3, 'ymax': 0.4}}, 'detectionConfidence': {'type': 'Property', 'value': 0.99}, 'age': {'type': 'Property', 'value': 100}, 'emotion': {'type': 'Property', 'value': 'HAPPINESS'}, 'recognized': {'type': 'Property', 'value': False}}\n",
      "--------------------------------------Face--------------------------------------\n",
      "id\t\t\t\turn:ngsi-ld:Face:9f0mLgwxEe6LRzCcI__G6g\n",
      "dateObserved\t\t\t2023-06-16 12:38:41\n",
      "type\t\t\t\tFace\n",
      "image\t\t\t\turn:ngsi-ld:Image:1234\n",
      "bounding_box\t\t\tBoundingBox(0.100,0.200,0.300,0.400)\n",
      "detection_confidence\t\t0.99\n",
      "age\t\t\t\t100.0\n",
      "gender\t\t\t\tNone\n",
      "gender_confidence\t\tNone\n",
      "emotion\t\t\t\tHAPPINESS\n",
      "emotion_confidence\t\tNone\n",
      "features\t\t\tNone\n",
      "features_algorithm\t\tNone\n",
      "recognition_domain\t\tNone\n",
      "recognized\t\t\tFalse\n",
      "recognized_distance\t\tNone\n",
      "recognized_person\t\tNone\n",
      "--------------------------------------------------------------------------------\n",
      "\n"
     ]
    }
   ],
   "source": [
    "json_face = entity_parser.data_model_to_json(face)\n",
    "print(json_face)\n",
    "\n",
    "new_face = entity_parser.json_to_data_model(json_face)\n",
    "print(new_face.pretty())"
   ]
  },
  {
   "attachments": {},
   "cell_type": "markdown",
   "metadata": {},
   "source": [
    "## Context broker\n",
    "The context broker is used to store and serve the entities produced and consumed by the Toolbox components. The [_ContextCli_](../../toolbox/Context/ContextCli.py) module provides an interface for interacting with it."
   ]
  },
  {
   "cell_type": "code",
   "execution_count": 6,
   "metadata": {},
   "outputs": [],
   "source": [
    "from toolbox.Context import ContextCli, Subscription"
   ]
  },
  {
   "attachments": {},
   "cell_type": "markdown",
   "metadata": {},
   "source": [
    "Create a _ContextCli_ object that connects to a context broker on local host, port 1026"
   ]
  },
  {
   "cell_type": "code",
   "execution_count": 7,
   "metadata": {},
   "outputs": [],
   "source": [
    "cli = ContextCli(\n",
    "    \"127.0.0.1\",\n",
    "    1026\n",
    ")"
   ]
  },
  {
   "attachments": {},
   "cell_type": "markdown",
   "metadata": {},
   "source": [
    "### Post and get a data model\n",
    "We can post a Toolbox data model to the context broker with the ``post_data_model`` method. Its ID must be unique in the context broker. We can set it to ``None`` to generate a random one."
   ]
  },
  {
   "cell_type": "code",
   "execution_count": 8,
   "metadata": {},
   "outputs": [
    {
     "name": "stdout",
     "output_type": "stream",
     "text": [
      "urn:ngsi-ld:Face:9iTERgwxEe6jwjCcI__G6g\n",
      "{'id': 'urn:ngsi-ld:Face:9iTERgwxEe6jwjCcI__G6g', 'type': 'Face', '@context': ['https://uri.etsi.org/ngsi-ld/v1/ngsi-ld-core-context.jsonld'], 'dateCreated': {'type': 'Property', 'value': {'@type': 'DateTime', '@value': '2023-06-16T12:38:41Z'}}, 'dateModified': {'type': 'Property', 'value': {'@type': 'DateTime', '@value': '2023-06-16T12:38:41Z'}}, 'dateObserved': {'type': 'Property', 'value': {'@type': 'DateTime', '@value': '2023-06-16T12:38:41Z'}}, 'image': {'type': 'Relationship', 'object': 'urn:ngsi-ld:Image:1234'}, 'boundingBox': {'type': 'Property', 'value': {'xmin': 0.1, 'ymin': 0.2, 'xmax': 0.3, 'ymax': 0.4}}, 'detectionConfidence': {'type': 'Property', 'value': 0.99}, 'age': {'type': 'Property', 'value': 100}, 'emotion': {'type': 'Property', 'value': 'HAPPINESS'}, 'recognized': {'type': 'Property', 'value': False}}\n"
     ]
    }
   ],
   "source": [
    "face.id = None\n",
    "\n",
    "uploaded_json = cli.post_data_model(face)\n",
    "\n",
    "face_id = face.id\n",
    "print(face_id)\n",
    "print(uploaded_json)"
   ]
  },
  {
   "attachments": {},
   "cell_type": "markdown",
   "metadata": {},
   "source": [
    "We can retrieve an entity from the context broker by its ID, using the ``get_entity`` method."
   ]
  },
  {
   "cell_type": "code",
   "execution_count": 9,
   "metadata": {},
   "outputs": [
    {
     "name": "stdout",
     "output_type": "stream",
     "text": [
      "--------------------------------------Face--------------------------------------\n",
      "id\t\t\t\turn:ngsi-ld:Face:9iTERgwxEe6jwjCcI__G6g\n",
      "dateObserved\t\t\t2023-06-16 12:38:41\n",
      "type\t\t\t\tFace\n",
      "image\t\t\t\turn:ngsi-ld:Image:1234\n",
      "bounding_box\t\t\tBoundingBox(0.100,0.200,0.300,0.400)\n",
      "detection_confidence\t\t0.99\n",
      "age\t\t\t\t100.0\n",
      "gender\t\t\t\tNone\n",
      "gender_confidence\t\tNone\n",
      "emotion\t\t\t\tHAPPINESS\n",
      "emotion_confidence\t\tNone\n",
      "features\t\t\tNone\n",
      "features_algorithm\t\tNone\n",
      "recognition_domain\t\tNone\n",
      "recognized\t\t\tFalse\n",
      "recognized_distance\t\tNone\n",
      "recognized_person\t\tNone\n",
      "--------------------------------------------------------------------------------\n",
      "\n"
     ]
    }
   ],
   "source": [
    "new_face = cli.get_entity(face_id)\n",
    "print(new_face.pretty())"
   ]
  },
  {
   "attachments": {},
   "cell_type": "markdown",
   "metadata": {},
   "source": [
    "If we want to retrieve an entity whose data model is not defined in the Toolbox, we can get it as a simple dict:"
   ]
  },
  {
   "cell_type": "code",
   "execution_count": 10,
   "metadata": {},
   "outputs": [
    {
     "name": "stdout",
     "output_type": "stream",
     "text": [
      "{'@context': 'https://uri.etsi.org/ngsi-ld/v1/ngsi-ld-core-context.jsonld', 'id': 'urn:ngsi-ld:Face:9iTERgwxEe6jwjCcI__G6g', 'type': 'Face', 'dateCreated': {'type': 'Property', 'value': {'@type': 'DateTime', '@value': '2023-06-16T12:38:41Z'}}, 'dateModified': {'type': 'Property', 'value': {'@type': 'DateTime', '@value': '2023-06-16T12:38:41Z'}}, 'dateObserved': {'type': 'Property', 'value': {'@type': 'DateTime', '@value': '2023-06-16T12:38:41Z'}}, 'image': {'type': 'Relationship', 'object': 'urn:ngsi-ld:Image:1234'}, 'boundingBox': {'type': 'Property', 'value': {'xmin': 0.1, 'ymin': 0.2, 'xmax': 0.3, 'ymax': 0.4}}, 'detectionConfidence': {'type': 'Property', 'value': 0.99}, 'age': {'type': 'Property', 'value': 100}, 'emotion': {'type': 'Property', 'value': 'HAPPINESS'}, 'recognized': {'type': 'Property', 'value': False}}\n"
     ]
    }
   ],
   "source": [
    "face_dict = cli.get_entity(face_id, as_dict=True)\n",
    "print(face_dict)"
   ]
  },
  {
   "attachments": {},
   "cell_type": "markdown",
   "metadata": {},
   "source": [
    "We can also update an existing entity."
   ]
  },
  {
   "cell_type": "code",
   "execution_count": 11,
   "metadata": {},
   "outputs": [
    {
     "name": "stdout",
     "output_type": "stream",
     "text": [
      "--------------------------------------Face--------------------------------------\n",
      "id\t\t\t\turn:ngsi-ld:Face:9iTERgwxEe6jwjCcI__G6g\n",
      "dateObserved\t\t\t2023-06-16 12:38:41\n",
      "type\t\t\t\tFace\n",
      "image\t\t\t\turn:ngsi-ld:Image:1234\n",
      "bounding_box\t\t\tBoundingBox(0.100,0.200,0.300,0.400)\n",
      "detection_confidence\t\t0.99\n",
      "age\t\t\t\t30.0\n",
      "gender\t\t\t\tNone\n",
      "gender_confidence\t\tNone\n",
      "emotion\t\t\t\tHAPPINESS\n",
      "emotion_confidence\t\tNone\n",
      "features\t\t\tNone\n",
      "features_algorithm\t\tNone\n",
      "recognition_domain\t\tNone\n",
      "recognized\t\t\tFalse\n",
      "recognized_distance\t\tNone\n",
      "recognized_person\t\tNone\n",
      "--------------------------------------------------------------------------------\n",
      "\n"
     ]
    }
   ],
   "source": [
    "face.age = 30\n",
    "cli.update_data_model(face)\n",
    "\n",
    "new_face = cli.get_entity(face_id)\n",
    "print(new_face.pretty())"
   ]
  },
  {
   "attachments": {},
   "cell_type": "markdown",
   "metadata": {},
   "source": [
    "Entities can also be deleted by their ID:"
   ]
  },
  {
   "cell_type": "code",
   "execution_count": 12,
   "metadata": {},
   "outputs": [
    {
     "name": "stdout",
     "output_type": "stream",
     "text": [
      "None\n"
     ]
    }
   ],
   "source": [
    "cli.delete_entity(face_id)\n",
    "new_face = cli.get_entity(face_id)\n",
    "print(new_face)"
   ]
  },
  {
   "attachments": {},
   "cell_type": "markdown",
   "metadata": {},
   "source": [
    "Finally we can get a list of the current entities in the context broker with the methods: ``get_all_entities``, ``iterate_entities``, ``get_entities_page`` and ``get_types``"
   ]
  },
  {
   "cell_type": "code",
   "execution_count": 13,
   "metadata": {},
   "outputs": [
    {
     "name": "stdout",
     "output_type": "stream",
     "text": [
      "All entities len: 5\n",
      "Iteration page len 3\n",
      "Page len 2\n",
      "Entity types: ['Face']\n"
     ]
    }
   ],
   "source": [
    "# Post some entities\n",
    "for _ in range(5):\n",
    "    face.id = None\n",
    "    cli.post_data_model(face)\n",
    "\n",
    "# Get all the entities\n",
    "all = cli.get_all_entities(entity_type=face.type)\n",
    "print(\"All entities len:\", len(all))\n",
    "\n",
    "# Iterate over all the entities pages\n",
    "for e in cli.iterate_entities(entity_type=face.type, limit=3):\n",
    "    print(\"Iteration page len\", len(e))\n",
    "    break\n",
    "\n",
    "# Get a single page\n",
    "page = cli.get_entities_page(entity_type=face.type, limit=2, offset=2)\n",
    "print(\"Page len\", len(page))\n",
    "\n",
    "# Get the current entity types on the context broker\n",
    "types = cli.get_types()\n",
    "print(\"Entity types:\", types)"
   ]
  },
  {
   "attachments": {},
   "cell_type": "markdown",
   "metadata": {},
   "source": [
    "### Subscriptions\n",
    "The context broker allows us to subscribe to the creation or modification of certain entities and attributes and receive notifications when this happens. We can create a subscription with the method ``subscribe``"
   ]
  },
  {
   "cell_type": "code",
   "execution_count": 14,
   "metadata": {},
   "outputs": [
    {
     "name": "stdout",
     "output_type": "stream",
     "text": [
      "urn:ngsi-ld:Subscription:f6849f58-0c31-11ee-ada5-0242ac140002\n"
     ]
    }
   ],
   "source": [
    "sub = Subscription(\n",
    "    notification_uri=\"127.0.0.1:9999\",\n",
    "    entity_type=\"Face\"\n",
    ")\n",
    "subscription_id = cli.subscribe(sub)\n",
    "print(subscription_id)"
   ]
  },
  {
   "attachments": {},
   "cell_type": "markdown",
   "metadata": {},
   "source": [
    "It is possible to create duplicate subscriptions that will send the same data more than once. The method ``get_conflicting_subscriptions`` can be used to check for possible conflicting subscriptions before creating them."
   ]
  },
  {
   "cell_type": "code",
   "execution_count": 15,
   "metadata": {},
   "outputs": [
    {
     "name": "stdout",
     "output_type": "stream",
     "text": [
      "[<toolbox.Context.Subscription.Subscription object at 0x0000010F86BC2FA0>]\n",
      "{\n",
      "    \"type\": \"Subscription\",\n",
      "    \"notification\": {\n",
      "        \"format\": \"normalized\",\n",
      "        \"endpoint\": {\n",
      "            \"uri\": \"127.0.0.1:9999\",\n",
      "            \"accept\": \"application/json\"\n",
      "        }\n",
      "    },\n",
      "    \"entities\": [\n",
      "        {\n",
      "            \"type\": \"Face\"\n",
      "        }\n",
      "    ],\n",
      "    \"id\": \"urn:ngsi-ld:Subscription:f6849f58-0c31-11ee-ada5-0242ac140002\"\n",
      "}\n"
     ]
    }
   ],
   "source": [
    "conflicts = cli.get_conflicting_subscriptions(sub)\n",
    "print(conflicts)\n",
    "print(conflicts[0])"
   ]
  },
  {
   "attachments": {},
   "cell_type": "markdown",
   "metadata": {},
   "source": [
    "As with entities, it is possible to get subscriptions in the context broker with the methods: ``get_subscription``, ``get_subscriptions_page``, ``iterate_subscriptions`` and ``get_all_subscriptions``."
   ]
  },
  {
   "cell_type": "code",
   "execution_count": 16,
   "metadata": {},
   "outputs": [
    {
     "name": "stdout",
     "output_type": "stream",
     "text": [
      "{\n",
      "    \"type\": \"Subscription\",\n",
      "    \"notification\": {\n",
      "        \"format\": \"normalized\",\n",
      "        \"endpoint\": {\n",
      "            \"uri\": \"127.0.0.1:9999\",\n",
      "            \"accept\": \"application/json\"\n",
      "        }\n",
      "    },\n",
      "    \"entities\": [\n",
      "        {\n",
      "            \"type\": \"Face\"\n",
      "        }\n",
      "    ],\n",
      "    \"id\": \"urn:ngsi-ld:Subscription:f6849f58-0c31-11ee-ada5-0242ac140002\"\n",
      "}\n",
      "Page len 2\n",
      "Iteration page len 3\n",
      "All subscriptions len: 6\n"
     ]
    }
   ],
   "source": [
    "# Create some subscriptions\n",
    "for _ in range(5):\n",
    "    cli.subscribe(\n",
    "        notification_uri=\"127.0.0.1:9999\",\n",
    "        entity_type=\"Face\"\n",
    "    )\n",
    "\n",
    "# Get a single subscription\n",
    "print(cli.get_subscription(subscription_id))\n",
    "\n",
    "# Get a single page\n",
    "page = cli.get_subscriptions_page(limit=2, offset=2)\n",
    "print(\"Page len\", len(page))\n",
    "\n",
    "# Iterate over all the subscriptions pages\n",
    "for e in cli.iterate_subscriptions(limit=3):\n",
    "    print(\"Iteration page len\", len(e))\n",
    "    break\n",
    "\n",
    "# Get all the subscriptions\n",
    "all = cli.get_all_subscriptions()\n",
    "print(\"All subscriptions len:\", len(all))"
   ]
  },
  {
   "attachments": {},
   "cell_type": "markdown",
   "metadata": {},
   "source": [
    "The IDs of the created subscriptions are stored in the property ``subscription_ids``. We can remove a subscription with the method ``unsubscribe`` or remove all the created subscriptions within the ``ContextCli`` object with ``unsubscribe_all``"
   ]
  },
  {
   "cell_type": "code",
   "execution_count": 17,
   "metadata": {},
   "outputs": [
    {
     "name": "stdout",
     "output_type": "stream",
     "text": [
      "6 ['urn:ngsi-ld:Subscription:f6849f58-0c31-11ee-ada5-0242ac140002', 'urn:ngsi-ld:Subscription:f6960018-0c31-11ee-be79-0242ac140002', 'urn:ngsi-ld:Subscription:f696e550-0c31-11ee-a590-0242ac140002', 'urn:ngsi-ld:Subscription:f697d5d2-0c31-11ee-adee-0242ac140002', 'urn:ngsi-ld:Subscription:f698b164-0c31-11ee-b084-0242ac140002', 'urn:ngsi-ld:Subscription:f699a632-0c31-11ee-b0f8-0242ac140002']\n",
      "5 ['urn:ngsi-ld:Subscription:f6960018-0c31-11ee-be79-0242ac140002', 'urn:ngsi-ld:Subscription:f696e550-0c31-11ee-a590-0242ac140002', 'urn:ngsi-ld:Subscription:f697d5d2-0c31-11ee-adee-0242ac140002', 'urn:ngsi-ld:Subscription:f698b164-0c31-11ee-b084-0242ac140002', 'urn:ngsi-ld:Subscription:f699a632-0c31-11ee-b0f8-0242ac140002']\n",
      "0 []\n"
     ]
    }
   ],
   "source": [
    "print(len(cli.subscription_ids), cli.subscription_ids)\n",
    "\n",
    "cli.unsubscribe(subscription_id)\n",
    "print(len(cli.subscription_ids), cli.subscription_ids)\n",
    "\n",
    "cli.unsubscribe_all()\n",
    "print(len(cli.subscription_ids), cli.subscription_ids)"
   ]
  }
 ],
 "metadata": {
  "kernelspec": {
   "display_name": "Python 3.7.9 64-bit",
   "language": "python",
   "name": "python3"
  },
  "language_info": {
   "codemirror_mode": {
    "name": "ipython",
    "version": 3
   },
   "file_extension": ".py",
   "mimetype": "text/x-python",
   "name": "python",
   "nbconvert_exporter": "python",
   "pygments_lexer": "ipython3",
   "version": "3.9.13"
  },
  "orig_nbformat": 4,
  "vscode": {
   "interpreter": {
    "hash": "d49c3f6d6dd49f9272b571d9fad348ab55b8c6c3f691520d74ed0af1f69c3dd8"
   }
  }
 },
 "nbformat": 4,
 "nbformat_minor": 2
}
